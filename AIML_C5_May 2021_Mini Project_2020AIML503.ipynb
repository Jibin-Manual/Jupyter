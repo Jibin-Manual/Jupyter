{
 "cells": [
  {
   "cell_type": "markdown",
   "metadata": {},
   "source": [
    "# Mini Project - 2020AIML503"
   ]
  },
  {
   "cell_type": "markdown",
   "metadata": {},
   "source": [
    "Starting with Exploratory data analysis"
   ]
  },
  {
   "cell_type": "code",
   "execution_count": 42,
   "metadata": {},
   "outputs": [],
   "source": [
    "#importing libraries\n",
    "import pandas as pd\n",
    "import numpy as np\n",
    "import matplotlib.pyplot as plt #for data visualisation\n",
    "import seaborn as sns #for data visualisation\n",
    "import statsmodels.api as sm\n",
    "%matplotlib inline\n",
    "sns.set(color_codes=True)"
   ]
  },
  {
   "cell_type": "code",
   "execution_count": 43,
   "metadata": {},
   "outputs": [
    {
     "data": {
      "text/html": [
       "<div>\n",
       "<style scoped>\n",
       "    .dataframe tbody tr th:only-of-type {\n",
       "        vertical-align: middle;\n",
       "    }\n",
       "\n",
       "    .dataframe tbody tr th {\n",
       "        vertical-align: top;\n",
       "    }\n",
       "\n",
       "    .dataframe thead th {\n",
       "        text-align: right;\n",
       "    }\n",
       "</style>\n",
       "<table border=\"1\" class=\"dataframe\">\n",
       "  <thead>\n",
       "    <tr style=\"text-align: right;\">\n",
       "      <th></th>\n",
       "      <th>Cost</th>\n",
       "      <th>Weight</th>\n",
       "      <th>Weight1</th>\n",
       "      <th>Length</th>\n",
       "      <th>Height</th>\n",
       "      <th>Width</th>\n",
       "    </tr>\n",
       "  </thead>\n",
       "  <tbody>\n",
       "    <tr>\n",
       "      <th>0</th>\n",
       "      <td>242.0</td>\n",
       "      <td>23.2</td>\n",
       "      <td>25.4</td>\n",
       "      <td>30</td>\n",
       "      <td>11.5200</td>\n",
       "      <td>4.02</td>\n",
       "    </tr>\n",
       "    <tr>\n",
       "      <th>1</th>\n",
       "      <td>290.0</td>\n",
       "      <td>24</td>\n",
       "      <td>26.3</td>\n",
       "      <td>31.2</td>\n",
       "      <td>12.4800</td>\n",
       "      <td>4.3056</td>\n",
       "    </tr>\n",
       "    <tr>\n",
       "      <th>2</th>\n",
       "      <td>340.0</td>\n",
       "      <td>23.9</td>\n",
       "      <td>26.5</td>\n",
       "      <td>31.1</td>\n",
       "      <td>12.3778</td>\n",
       "      <td>4.6961</td>\n",
       "    </tr>\n",
       "    <tr>\n",
       "      <th>3</th>\n",
       "      <td>363.0</td>\n",
       "      <td>26.3</td>\n",
       "      <td>29.0</td>\n",
       "      <td>33.5</td>\n",
       "      <td>12.7300</td>\n",
       "      <td>4.4555</td>\n",
       "    </tr>\n",
       "    <tr>\n",
       "      <th>4</th>\n",
       "      <td>430.0</td>\n",
       "      <td>26.5</td>\n",
       "      <td>29.0</td>\n",
       "      <td>34</td>\n",
       "      <td>12.4440</td>\n",
       "      <td>5.134</td>\n",
       "    </tr>\n",
       "    <tr>\n",
       "      <th>5</th>\n",
       "      <td>450.0</td>\n",
       "      <td>26.8</td>\n",
       "      <td>29.7</td>\n",
       "      <td>34.7</td>\n",
       "      <td>13.6024</td>\n",
       "      <td>U</td>\n",
       "    </tr>\n",
       "    <tr>\n",
       "      <th>6</th>\n",
       "      <td>500.0</td>\n",
       "      <td>26.8</td>\n",
       "      <td>29.7</td>\n",
       "      <td>34.5</td>\n",
       "      <td>14.1795</td>\n",
       "      <td>5.2785</td>\n",
       "    </tr>\n",
       "    <tr>\n",
       "      <th>7</th>\n",
       "      <td>390.0</td>\n",
       "      <td>27.6</td>\n",
       "      <td>30.0</td>\n",
       "      <td>35</td>\n",
       "      <td>12.6700</td>\n",
       "      <td>4.69</td>\n",
       "    </tr>\n",
       "    <tr>\n",
       "      <th>8</th>\n",
       "      <td>450.0</td>\n",
       "      <td>27.6</td>\n",
       "      <td>30.0</td>\n",
       "      <td>35.1</td>\n",
       "      <td>14.0049</td>\n",
       "      <td>4.8438</td>\n",
       "    </tr>\n",
       "    <tr>\n",
       "      <th>9</th>\n",
       "      <td>500.0</td>\n",
       "      <td>#</td>\n",
       "      <td>30.7</td>\n",
       "      <td>36.2</td>\n",
       "      <td>14.2266</td>\n",
       "      <td>4.9594</td>\n",
       "    </tr>\n",
       "  </tbody>\n",
       "</table>\n",
       "</div>"
      ],
      "text/plain": [
       "    Cost Weight  Weight1 Length   Height   Width\n",
       "0  242.0   23.2     25.4     30  11.5200    4.02\n",
       "1  290.0     24     26.3   31.2  12.4800  4.3056\n",
       "2  340.0   23.9     26.5   31.1  12.3778  4.6961\n",
       "3  363.0   26.3     29.0   33.5  12.7300  4.4555\n",
       "4  430.0   26.5     29.0     34  12.4440   5.134\n",
       "5  450.0   26.8     29.7   34.7  13.6024       U\n",
       "6  500.0   26.8     29.7   34.5  14.1795  5.2785\n",
       "7  390.0   27.6     30.0     35  12.6700    4.69\n",
       "8  450.0   27.6     30.0   35.1  14.0049  4.8438\n",
       "9  500.0      #     30.7   36.2  14.2266  4.9594"
      ]
     },
     "execution_count": 43,
     "metadata": {},
     "output_type": "execute_result"
    }
   ],
   "source": [
    "bags_df = pd.read_csv('AIML_C5_May 2021_Data_miniproject.csv')\n",
    "#To display top 5 rows\n",
    "bags_df.head(10)"
   ]
  },
  {
   "cell_type": "code",
   "execution_count": 44,
   "metadata": {},
   "outputs": [
    {
     "data": {
      "text/html": [
       "<div>\n",
       "<style scoped>\n",
       "    .dataframe tbody tr th:only-of-type {\n",
       "        vertical-align: middle;\n",
       "    }\n",
       "\n",
       "    .dataframe tbody tr th {\n",
       "        vertical-align: top;\n",
       "    }\n",
       "\n",
       "    .dataframe thead th {\n",
       "        text-align: right;\n",
       "    }\n",
       "</style>\n",
       "<table border=\"1\" class=\"dataframe\">\n",
       "  <thead>\n",
       "    <tr style=\"text-align: right;\">\n",
       "      <th></th>\n",
       "      <th>Cost</th>\n",
       "      <th>Weight</th>\n",
       "      <th>Weight1</th>\n",
       "      <th>Length</th>\n",
       "      <th>Height</th>\n",
       "      <th>Width</th>\n",
       "    </tr>\n",
       "  </thead>\n",
       "  <tbody>\n",
       "    <tr>\n",
       "      <th>149</th>\n",
       "      <td>9.8</td>\n",
       "      <td>10.7</td>\n",
       "      <td>11.2</td>\n",
       "      <td>12.4</td>\n",
       "      <td>2.0832</td>\n",
       "      <td>1.2772</td>\n",
       "    </tr>\n",
       "    <tr>\n",
       "      <th>150</th>\n",
       "      <td>8.7</td>\n",
       "      <td>10.8</td>\n",
       "      <td>11.3</td>\n",
       "      <td>12.6</td>\n",
       "      <td>1.9782</td>\n",
       "      <td>1.2852</td>\n",
       "    </tr>\n",
       "    <tr>\n",
       "      <th>151</th>\n",
       "      <td>10.0</td>\n",
       "      <td>11.3</td>\n",
       "      <td>11.8</td>\n",
       "      <td>13.1</td>\n",
       "      <td>2.2139</td>\n",
       "      <td>1.2838</td>\n",
       "    </tr>\n",
       "    <tr>\n",
       "      <th>152</th>\n",
       "      <td>9.9</td>\n",
       "      <td>11.3</td>\n",
       "      <td>11.8</td>\n",
       "      <td>13.1</td>\n",
       "      <td>2.2139</td>\n",
       "      <td>1.1659</td>\n",
       "    </tr>\n",
       "    <tr>\n",
       "      <th>153</th>\n",
       "      <td>9.8</td>\n",
       "      <td>11.4</td>\n",
       "      <td>12.0</td>\n",
       "      <td>13.2</td>\n",
       "      <td>2.2044</td>\n",
       "      <td>1.1484</td>\n",
       "    </tr>\n",
       "    <tr>\n",
       "      <th>154</th>\n",
       "      <td>12.2</td>\n",
       "      <td>11.5</td>\n",
       "      <td>12.2</td>\n",
       "      <td>13.4</td>\n",
       "      <td>2.0904</td>\n",
       "      <td>1.3936</td>\n",
       "    </tr>\n",
       "    <tr>\n",
       "      <th>155</th>\n",
       "      <td>13.4</td>\n",
       "      <td>11.7</td>\n",
       "      <td>12.4</td>\n",
       "      <td>13.5</td>\n",
       "      <td>2.4300</td>\n",
       "      <td>1.269</td>\n",
       "    </tr>\n",
       "    <tr>\n",
       "      <th>156</th>\n",
       "      <td>12.2</td>\n",
       "      <td>12.1</td>\n",
       "      <td>13.0</td>\n",
       "      <td>13.8</td>\n",
       "      <td>2.2770</td>\n",
       "      <td>1.2558</td>\n",
       "    </tr>\n",
       "    <tr>\n",
       "      <th>157</th>\n",
       "      <td>19.7</td>\n",
       "      <td>13.2</td>\n",
       "      <td>14.3</td>\n",
       "      <td>15.2</td>\n",
       "      <td>2.8728</td>\n",
       "      <td>2.0672</td>\n",
       "    </tr>\n",
       "    <tr>\n",
       "      <th>158</th>\n",
       "      <td>19.9</td>\n",
       "      <td>13.8</td>\n",
       "      <td>15.0</td>\n",
       "      <td>16.2</td>\n",
       "      <td>2.9322</td>\n",
       "      <td>1.8792</td>\n",
       "    </tr>\n",
       "  </tbody>\n",
       "</table>\n",
       "</div>"
      ],
      "text/plain": [
       "     Cost Weight  Weight1 Length  Height   Width\n",
       "149   9.8   10.7     11.2   12.4  2.0832  1.2772\n",
       "150   8.7   10.8     11.3   12.6  1.9782  1.2852\n",
       "151  10.0   11.3     11.8   13.1  2.2139  1.2838\n",
       "152   9.9   11.3     11.8   13.1  2.2139  1.1659\n",
       "153   9.8   11.4     12.0   13.2  2.2044  1.1484\n",
       "154  12.2   11.5     12.2   13.4  2.0904  1.3936\n",
       "155  13.4   11.7     12.4   13.5  2.4300   1.269\n",
       "156  12.2   12.1     13.0   13.8  2.2770  1.2558\n",
       "157  19.7   13.2     14.3   15.2  2.8728  2.0672\n",
       "158  19.9   13.8     15.0   16.2  2.9322  1.8792"
      ]
     },
     "execution_count": 44,
     "metadata": {},
     "output_type": "execute_result"
    }
   ],
   "source": [
    "#to display last 10 rows\n",
    "bags_df.tail(10)"
   ]
  },
  {
   "cell_type": "code",
   "execution_count": 45,
   "metadata": {},
   "outputs": [
    {
     "data": {
      "text/plain": [
       "Cost       float64\n",
       "Weight      object\n",
       "Weight1    float64\n",
       "Length      object\n",
       "Height     float64\n",
       "Width       object\n",
       "dtype: object"
      ]
     },
     "execution_count": 45,
     "metadata": {},
     "output_type": "execute_result"
    }
   ],
   "source": [
    "#checking the data types\n",
    "bags_df.dtypes"
   ]
  },
  {
   "cell_type": "code",
   "execution_count": 46,
   "metadata": {},
   "outputs": [
    {
     "data": {
      "text/plain": [
       "(159, 6)"
      ]
     },
     "execution_count": 46,
     "metadata": {},
     "output_type": "execute_result"
    }
   ],
   "source": [
    "bags_df.shape"
   ]
  },
  {
   "cell_type": "code",
   "execution_count": 47,
   "metadata": {},
   "outputs": [
    {
     "name": "stdout",
     "output_type": "stream",
     "text": [
      "<class 'pandas.core.frame.DataFrame'>\n",
      "RangeIndex: 159 entries, 0 to 158\n",
      "Data columns (total 6 columns):\n",
      " #   Column   Non-Null Count  Dtype  \n",
      "---  ------   --------------  -----  \n",
      " 0   Cost     159 non-null    float64\n",
      " 1   Weight   159 non-null    object \n",
      " 2   Weight1  159 non-null    float64\n",
      " 3   Length   159 non-null    object \n",
      " 4   Height   158 non-null    float64\n",
      " 5   Width    158 non-null    object \n",
      "dtypes: float64(3), object(3)\n",
      "memory usage: 7.6+ KB\n"
     ]
    }
   ],
   "source": [
    "#nderstanding columns and datatypes\n",
    "bags_df.info()"
   ]
  },
  {
   "cell_type": "code",
   "execution_count": 48,
   "metadata": {},
   "outputs": [
    {
     "data": {
      "text/html": [
       "<div>\n",
       "<style scoped>\n",
       "    .dataframe tbody tr th:only-of-type {\n",
       "        vertical-align: middle;\n",
       "    }\n",
       "\n",
       "    .dataframe tbody tr th {\n",
       "        vertical-align: top;\n",
       "    }\n",
       "\n",
       "    .dataframe thead th {\n",
       "        text-align: right;\n",
       "    }\n",
       "</style>\n",
       "<table border=\"1\" class=\"dataframe\">\n",
       "  <thead>\n",
       "    <tr style=\"text-align: right;\">\n",
       "      <th></th>\n",
       "      <th>Cost</th>\n",
       "      <th>Weight_compact</th>\n",
       "      <th>Weight_expanded</th>\n",
       "      <th>Length</th>\n",
       "      <th>Height</th>\n",
       "      <th>Width</th>\n",
       "    </tr>\n",
       "  </thead>\n",
       "  <tbody>\n",
       "    <tr>\n",
       "      <th>0</th>\n",
       "      <td>242.0</td>\n",
       "      <td>23.2</td>\n",
       "      <td>25.4</td>\n",
       "      <td>30</td>\n",
       "      <td>11.5200</td>\n",
       "      <td>4.02</td>\n",
       "    </tr>\n",
       "    <tr>\n",
       "      <th>1</th>\n",
       "      <td>290.0</td>\n",
       "      <td>24</td>\n",
       "      <td>26.3</td>\n",
       "      <td>31.2</td>\n",
       "      <td>12.4800</td>\n",
       "      <td>4.3056</td>\n",
       "    </tr>\n",
       "    <tr>\n",
       "      <th>2</th>\n",
       "      <td>340.0</td>\n",
       "      <td>23.9</td>\n",
       "      <td>26.5</td>\n",
       "      <td>31.1</td>\n",
       "      <td>12.3778</td>\n",
       "      <td>4.6961</td>\n",
       "    </tr>\n",
       "    <tr>\n",
       "      <th>3</th>\n",
       "      <td>363.0</td>\n",
       "      <td>26.3</td>\n",
       "      <td>29.0</td>\n",
       "      <td>33.5</td>\n",
       "      <td>12.7300</td>\n",
       "      <td>4.4555</td>\n",
       "    </tr>\n",
       "    <tr>\n",
       "      <th>4</th>\n",
       "      <td>430.0</td>\n",
       "      <td>26.5</td>\n",
       "      <td>29.0</td>\n",
       "      <td>34</td>\n",
       "      <td>12.4440</td>\n",
       "      <td>5.134</td>\n",
       "    </tr>\n",
       "  </tbody>\n",
       "</table>\n",
       "</div>"
      ],
      "text/plain": [
       "    Cost Weight_compact  Weight_expanded Length   Height   Width\n",
       "0  242.0           23.2             25.4     30  11.5200    4.02\n",
       "1  290.0             24             26.3   31.2  12.4800  4.3056\n",
       "2  340.0           23.9             26.5   31.1  12.3778  4.6961\n",
       "3  363.0           26.3             29.0   33.5  12.7300  4.4555\n",
       "4  430.0           26.5             29.0     34  12.4440   5.134"
      ]
     },
     "execution_count": 48,
     "metadata": {},
     "output_type": "execute_result"
    }
   ],
   "source": [
    "#Renaming the columns\n",
    "bags_df = bags_df.rename(columns={\"Weight\":\"Weight_compact\", \"Weight1\":\"Weight_expanded\"})\n",
    "bags_df.head()"
   ]
  },
  {
   "cell_type": "code",
   "execution_count": 49,
   "metadata": {},
   "outputs": [
    {
     "name": "stdout",
     "output_type": "stream",
     "text": [
      "Number of duplicate rows are:  (0, 6)\n"
     ]
    }
   ],
   "source": [
    "'''In our dataset, all columns are relevant. \n",
    "   Hence not dropping any columns using .drop() command.\n",
    "   Moving on to checking for duplicate rows. \n",
    "   A new dataset is prepared to host the duplicate rows to keep the original dataset intact'''\n",
    "\n",
    "duplicate_bags_df = bags_df[bags_df.duplicated()]\n",
    "print(\"Number of duplicate rows are: \", duplicate_bags_df.shape)"
   ]
  },
  {
   "cell_type": "code",
   "execution_count": 50,
   "metadata": {},
   "outputs": [
    {
     "name": "stdout",
     "output_type": "stream",
     "text": [
      "<class 'pandas.core.frame.DataFrame'>\n",
      "RangeIndex: 159 entries, 0 to 158\n",
      "Data columns (total 6 columns):\n",
      " #   Column           Non-Null Count  Dtype  \n",
      "---  ------           --------------  -----  \n",
      " 0   Cost             159 non-null    float64\n",
      " 1   Weight_compact   157 non-null    float64\n",
      " 2   Weight_expanded  159 non-null    float64\n",
      " 3   Length           158 non-null    float64\n",
      " 4   Height           158 non-null    float64\n",
      " 5   Width            157 non-null    float64\n",
      "dtypes: float64(6)\n",
      "memory usage: 7.6 KB\n"
     ]
    }
   ],
   "source": [
    "#replacing the non-float values from columns with null value and converting the datatype to float\n",
    "bags_df[\"Weight_compact\"] = bags_df[\"Weight_compact\"].replace(to_replace = \"#\", value=np.nan)\n",
    "bags_df[\"Weight_compact\"] = bags_df[\"Weight_compact\"].replace(to_replace = \"&\", value=np.nan)\n",
    "bags_df[\"Weight_compact\"] = bags_df[\"Weight_compact\"].astype(float)\n",
    "\n",
    "bags_df[\"Length\"] = bags_df[\"Length\"].replace(to_replace = \"$\", value=np.nan)\n",
    "bags_df[\"Length\"] = bags_df[\"Length\"].astype(float)\n",
    "\n",
    "bags_df[\"Width\"] = bags_df[\"Width\"].replace(to_replace = \"U\", value=np.nan)\n",
    "bags_df['Width'] = bags_df[\"Width\"].astype(float)\n",
    "\n",
    "bags_df.info() #to see the results of changes made"
   ]
  },
  {
   "cell_type": "code",
   "execution_count": 51,
   "metadata": {},
   "outputs": [
    {
     "name": "stdout",
     "output_type": "stream",
     "text": [
      "Cost:\n",
      "242.0 290.0 340.0 363.0 430.0 450.0 500.0 390.0 475.0 600.0 700.0 610.0 650.0 575.0 685.0 620.0 680.0 725.0 720.0 714.0 850.0 1000.0 920.0 955.0 925.0 975.0 950.0 40.0 69.0 78.0 87.0 120.0 0.0 110.0 150.0 145.0 160.0 140.0 169.0 161.0 200.0 180.0 272.0 270.0 306.0 540.0 800.0 55.0 60.0 90.0 170.0 273.0 300.0 5.9 32.0 51.5 70.0 100.0 80.0 85.0 115.0 125.0 130.0 135.0 225.0 188.0 197.0 218.0 260.0 265.0 250.0 320.0 514.0 556.0 840.0 690.0 900.0 820.0 1015.0 1100.0 345.0 456.0 510.0 567.0 770.0 1250.0 1600.0 1550.0 1650.0 6.7 7.5 7.0 9.7 9.8 8.7 10.0 9.9 12.2 13.4 19.7 19.9\n",
      "Weight_compact:\n",
      "23.2 24.0 23.9 26.3 26.5 26.8 27.6 nan 28.4 28.7 29.1 29.5 29.4 30.4 30.9 31.0 31.3 31.4 31.5 31.8 31.9 32.0 32.7 32.8 33.5 35.0 36.2 37.4 38.0 12.9 16.5 17.5 18.2 18.6 19.0 19.1 19.4 20.4 20.5 21.0 21.1 22.0 22.1 23.6 25.0 24.1 25.6 28.5 33.7 37.3 13.5 14.3 16.3 18.4 19.8 21.2 23.0 7.5 12.5 13.8 15.0 15.7 16.2 16.8 17.2 17.8 19.3 20.0 20.7 21.5 22.6 23.5 25.2 25.4 25.9 26.9 27.8 30.5 32.5 34.0 34.5 34.6 36.5 36.6 36.9 37.0 37.1 39.0 39.8 40.1 40.2 41.1 30.0 31.7 34.8 35.5 36.0 40.0 42.0 43.2 44.8 48.3 52.0 56.0 59.0 9.3 10.0 10.1 10.4 10.7 10.8 11.3 11.4 11.5 11.7 12.1 13.2\n",
      "Weight_expanded: \n",
      "25.4 26.3 26.5 29.0 29.7 30.0 30.7 31.0 31.5 32.0 33.0 33.5 34.0 34.5 35.0 36.0 37.0 38.5 39.5 41.0 14.1 18.2 18.8 19.8 20.0 20.5 20.8 21.0 22.0 22.5 24.0 23.4 23.5 25.2 26.0 27.0 31.7 28.0 36.4 40.0 14.7 15.5 17.7 19.0 20.7 21.5 23.0 25.0 8.4 13.7 15.0 16.2 17.4 18.0 18.7 19.6 21.3 22.7 24.6 25.6 27.3 27.5 28.7 32.8 36.5 39.0 42.0 43.0 43.5 44.0 32.3 37.3 38.0 42.5 45.0 46.0 48.0 51.7 56.0 60.0 63.4 9.8 10.5 10.6 11.0 11.2 11.3 11.8 12.0 12.2 12.4 13.0 14.3\n",
      "Length:\n",
      "30.0 31.2 31.1 33.5 34.0 34.7 34.5 35.0 35.1 36.2 36.4 37.3 37.2 38.3 38.5 38.6 38.7 39.5 39.2 39.7 40.6 40.5 40.9 41.5 41.6 42.6 44.1 44.0 45.3 45.9 46.5 16.2 20.3 21.2 22.2 22.8 23.1 23.7 24.7 24.3 25.3 25.0 27.2 26.7 26.8 27.9 29.2 30.6 28.7 nan 30.8 39.6 43.5 16.5 17.4 19.8 21.3 22.4 23.2 24.1 25.8 28.0 29.0 8.8 14.7 16.0 17.2 18.5 19.2 19.4 20.2 20.8 21.0 22.5 23.5 24.0 24.2 24.5 25.5 26.2 26.5 27.0 28.9 29.4 30.1 31.6 36.5 39.0 39.4 39.3 41.4 41.3 42.3 42.5 42.4 44.6 45.2 45.5 46.0 46.6 34.8 37.8 38.8 39.8 41.0 45.8 48.0 48.7 51.2 55.1 59.7 64.0 68.0 10.8 11.6 12.0 12.4 12.6 13.1 13.2 13.4 13.5 13.8 15.2\n",
      "Height:\n",
      "11.52 12.48 12.3778 12.73 12.444 13.6024 14.1795 12.67 14.0049 14.2266 14.2628 14.3714 13.7592 13.9129 nan 15.437999999999999 14.8604 14.937999999999999 15.633 14.4738 15.1285 15.9936 15.5227 15.4686 16.2405 16.36 16.3618 16.517 16.8896 18.957 18.0369 18.084 18.7542 18.6354 17.6235 4.1472 5.2983 5.5756 5.6166 6.216 6.4752 6.1677 6.1146 5.8045 6.6339 7.0334 6.55 6.4 7.5344 6.9153 7.3968 7.0866 8.8768 8.568 9.485 8.3804 8.1454 8.777999999999999 10.744000000000002 11.7612 12.354000000000001 6.8475 6.5772 7.4052 8.3922 8.8928 8.5376 9.396 9.7364 10.3458 11.088 11.368 2.112 3.528 3.824 4.5924 4.588 5.2224 5.1992 5.6358 5.1376 5.082 5.6925 5.9175 6.3839999999999995 6.11 5.64 5.875 5.5225 5.856 6.792000000000001 5.9532 5.2185 6.275 7.292999999999999 6.375 6.7334 6.4395 6.561 7.167999999999999 8.323 7.1672 7.0516 7.2828 7.8204 7.5852 7.6156 10.03 10.2565 11.4884 10.880999999999998 10.6091 10.835 10.5717 11.1366 12.4313 11.9286 11.73 12.3808 11.135 12.8002 11.9328 12.5125 12.604000000000001 12.4888 5.568 5.7078 5.9364 6.2884 7.29 6.396 7.28 6.825 7.7860000000000005 6.96 7.792000000000001 7.68 8.9262 10.6863 9.6 10.812000000000001 1.7388 1.972 1.7284 2.1959999999999997 2.0832 1.9782 2.2139 2.2044 2.0904 2.43 2.2769999999999997 2.8728 2.9322\n",
      "Width\n",
      "4.02 4.3056 4.6961 4.4555 5.134 nan 5.2785 4.69 4.8438 4.9594 5.1042 4.8146 4.368 5.0728 5.1708 5.58 5.2854 5.1975 5.1338 5.7276 5.5695 5.3704 5.2801 6.1306 5.589 6.0532 6.09 5.8515 6.1984 6.603 6.3063 6.292 6.7497 6.7473 6.3705 2.268 2.8217 2.9044 3.1746 3.5742 3.3516 3.3957 3.2943 3.7544 3.5478 3.8203 3.325 3.8 3.8352 3.6312 4.1272 3.906 4.4968 4.7736 5.355 4.2476 4.2485 4.6816 6.562 6.5736 6.525 2.3265 2.3142 2.673 2.9181 3.2928 3.2944 3.4104 3.1571 3.6636 4.144 4.234 1.408 1.9992 2.432 2.6316 2.9415 3.3216 3.1234 3.0502 3.0368 2.772 3.555 3.3075 3.6675 3.534 3.4075 3.525 3.995 3.624 3.63 3.626 3.725 3.723 3.825 4.1658 3.6835 4.239 5.1373 4.335 4.5662 4.2042 4.6354 4.7716 6.018 6.3875 7.7957 6.864 6.7408 6.2646 6.3666 7.4934 6.003 7.3514 7.1064 7.225 7.4624 6.63 6.8684 7.2772 7.4165 8.142 7.5958 3.3756 4.158 4.3844 4.0198 4.5765 3.977 4.3225 4.459 5.1296 4.896 4.87 5.376 6.1712 6.9849 600000.0 6.144 7.48 1.0476 1.16 1.1484 1.2772 1.2852 1.2838 1.1659 1.3936 1.269 1.2558 2.0672 1.8792\n"
     ]
    }
   ],
   "source": [
    "#checking if any columns have any unique values\n",
    "print(\"Cost:\")\n",
    "print(*list(bags_df.Cost.unique()))\n",
    "print(\"Weight_compact:\")\n",
    "print(*list(bags_df.Weight_compact.unique()))\n",
    "print(\"Weight_expanded: \")\n",
    "print(*list(bags_df.Weight_expanded.unique()))\n",
    "print(\"Length:\")\n",
    "print(*list(bags_df.Length.unique()))\n",
    "print(\"Height:\")\n",
    "print(*list(bags_df.Height.unique()))\n",
    "print(\"Width\")\n",
    "print(*list(bags_df.Width.unique()))\n"
   ]
  },
  {
   "cell_type": "code",
   "execution_count": 52,
   "metadata": {},
   "outputs": [
    {
     "data": {
      "text/html": [
       "<div>\n",
       "<style scoped>\n",
       "    .dataframe tbody tr th:only-of-type {\n",
       "        vertical-align: middle;\n",
       "    }\n",
       "\n",
       "    .dataframe tbody tr th {\n",
       "        vertical-align: top;\n",
       "    }\n",
       "\n",
       "    .dataframe thead th {\n",
       "        text-align: right;\n",
       "    }\n",
       "</style>\n",
       "<table border=\"1\" class=\"dataframe\">\n",
       "  <thead>\n",
       "    <tr style=\"text-align: right;\">\n",
       "      <th></th>\n",
       "      <th>Cost</th>\n",
       "      <th>Weight_compact</th>\n",
       "      <th>Weight_expanded</th>\n",
       "      <th>Length</th>\n",
       "      <th>Height</th>\n",
       "      <th>Width</th>\n",
       "    </tr>\n",
       "  </thead>\n",
       "  <tbody>\n",
       "    <tr>\n",
       "      <th>count</th>\n",
       "      <td>159.000000</td>\n",
       "      <td>157.000000</td>\n",
       "      <td>159.000000</td>\n",
       "      <td>158.000000</td>\n",
       "      <td>158.000000</td>\n",
       "      <td>157.000000</td>\n",
       "    </tr>\n",
       "    <tr>\n",
       "      <th>mean</th>\n",
       "      <td>398.326415</td>\n",
       "      <td>26.259873</td>\n",
       "      <td>28.415723</td>\n",
       "      <td>31.239241</td>\n",
       "      <td>8.933124</td>\n",
       "      <td>3826.050502</td>\n",
       "    </tr>\n",
       "    <tr>\n",
       "      <th>std</th>\n",
       "      <td>357.978317</td>\n",
       "      <td>10.052942</td>\n",
       "      <td>10.716328</td>\n",
       "      <td>11.646141</td>\n",
       "      <td>4.273069</td>\n",
       "      <td>47884.860134</td>\n",
       "    </tr>\n",
       "    <tr>\n",
       "      <th>min</th>\n",
       "      <td>0.000000</td>\n",
       "      <td>7.500000</td>\n",
       "      <td>8.400000</td>\n",
       "      <td>8.800000</td>\n",
       "      <td>1.728400</td>\n",
       "      <td>1.047600</td>\n",
       "    </tr>\n",
       "    <tr>\n",
       "      <th>25%</th>\n",
       "      <td>120.000000</td>\n",
       "      <td>19.000000</td>\n",
       "      <td>21.000000</td>\n",
       "      <td>23.125000</td>\n",
       "      <td>5.940600</td>\n",
       "      <td>3.395700</td>\n",
       "    </tr>\n",
       "    <tr>\n",
       "      <th>50%</th>\n",
       "      <td>273.000000</td>\n",
       "      <td>25.200000</td>\n",
       "      <td>27.300000</td>\n",
       "      <td>29.700000</td>\n",
       "      <td>7.733000</td>\n",
       "      <td>4.248500</td>\n",
       "    </tr>\n",
       "    <tr>\n",
       "      <th>75%</th>\n",
       "      <td>650.000000</td>\n",
       "      <td>32.700000</td>\n",
       "      <td>35.500000</td>\n",
       "      <td>39.675000</td>\n",
       "      <td>12.248700</td>\n",
       "      <td>5.589000</td>\n",
       "    </tr>\n",
       "    <tr>\n",
       "      <th>max</th>\n",
       "      <td>1650.000000</td>\n",
       "      <td>59.000000</td>\n",
       "      <td>63.400000</td>\n",
       "      <td>68.000000</td>\n",
       "      <td>18.957000</td>\n",
       "      <td>600000.000000</td>\n",
       "    </tr>\n",
       "  </tbody>\n",
       "</table>\n",
       "</div>"
      ],
      "text/plain": [
       "              Cost  Weight_compact  Weight_expanded      Length      Height  \\\n",
       "count   159.000000      157.000000       159.000000  158.000000  158.000000   \n",
       "mean    398.326415       26.259873        28.415723   31.239241    8.933124   \n",
       "std     357.978317       10.052942        10.716328   11.646141    4.273069   \n",
       "min       0.000000        7.500000         8.400000    8.800000    1.728400   \n",
       "25%     120.000000       19.000000        21.000000   23.125000    5.940600   \n",
       "50%     273.000000       25.200000        27.300000   29.700000    7.733000   \n",
       "75%     650.000000       32.700000        35.500000   39.675000   12.248700   \n",
       "max    1650.000000       59.000000        63.400000   68.000000   18.957000   \n",
       "\n",
       "               Width  \n",
       "count     157.000000  \n",
       "mean     3826.050502  \n",
       "std     47884.860134  \n",
       "min         1.047600  \n",
       "25%         3.395700  \n",
       "50%         4.248500  \n",
       "75%         5.589000  \n",
       "max    600000.000000  "
      ]
     },
     "execution_count": 52,
     "metadata": {},
     "output_type": "execute_result"
    }
   ],
   "source": [
    "'''Looks like we do not have any unique characters to take care of.\n",
    "   Starting with the next step. Lets check how the data is spread out using the describe() method'''\n",
    "bags_df.describe()"
   ]
  },
  {
   "cell_type": "markdown",
   "metadata": {},
   "source": [
    "Handling missing values"
   ]
  },
  {
   "cell_type": "code",
   "execution_count": 53,
   "metadata": {},
   "outputs": [
    {
     "data": {
      "text/plain": [
       "Cost               0\n",
       "Weight_compact     2\n",
       "Weight_expanded    0\n",
       "Length             1\n",
       "Height             1\n",
       "Width              2\n",
       "dtype: int64"
      ]
     },
     "execution_count": 53,
     "metadata": {},
     "output_type": "execute_result"
    }
   ],
   "source": [
    "#check the null values in the dataset\n",
    "bags_df.isnull().sum()"
   ]
  },
  {
   "cell_type": "markdown",
   "metadata": {},
   "source": [
    "Null values are not much in quantity, could drop them but in the interest of learning, I will replace them with median values."
   ]
  },
  {
   "cell_type": "code",
   "execution_count": 54,
   "metadata": {},
   "outputs": [
    {
     "data": {
      "text/plain": [
       "Cost               0\n",
       "Weight_compact     0\n",
       "Weight_expanded    0\n",
       "Length             0\n",
       "Height             0\n",
       "Width              0\n",
       "dtype: int64"
      ]
     },
     "execution_count": 54,
     "metadata": {},
     "output_type": "execute_result"
    }
   ],
   "source": [
    "median1 = bags_df[\"Weight_compact\"].median()\n",
    "median2 = bags_df[\"Length\"].median()\n",
    "median3 = bags_df[\"Height\"].median()\n",
    "median4 = bags_df[\"Width\"].median()\n",
    "\n",
    "bags_df[\"Weight_compact\"].replace(np.nan,median1,inplace=True)\n",
    "bags_df[\"Length\"].replace(np.nan,median2,inplace=True)\n",
    "bags_df[\"Height\"].replace(np.nan,median3,inplace=True)\n",
    "bags_df[\"Width\"].replace(np.nan,median4,inplace=True)\n",
    "bags_df.isnull().sum() #lets check again"
   ]
  },
  {
   "cell_type": "code",
   "execution_count": 55,
   "metadata": {},
   "outputs": [
    {
     "data": {
      "text/html": [
       "<div>\n",
       "<style scoped>\n",
       "    .dataframe tbody tr th:only-of-type {\n",
       "        vertical-align: middle;\n",
       "    }\n",
       "\n",
       "    .dataframe tbody tr th {\n",
       "        vertical-align: top;\n",
       "    }\n",
       "\n",
       "    .dataframe thead th {\n",
       "        text-align: right;\n",
       "    }\n",
       "</style>\n",
       "<table border=\"1\" class=\"dataframe\">\n",
       "  <thead>\n",
       "    <tr style=\"text-align: right;\">\n",
       "      <th></th>\n",
       "      <th>Cost</th>\n",
       "      <th>Weight_compact</th>\n",
       "      <th>Weight_expanded</th>\n",
       "      <th>Length</th>\n",
       "      <th>Height</th>\n",
       "      <th>Width</th>\n",
       "    </tr>\n",
       "  </thead>\n",
       "  <tbody>\n",
       "    <tr>\n",
       "      <th>count</th>\n",
       "      <td>159.000000</td>\n",
       "      <td>159.000000</td>\n",
       "      <td>159.000000</td>\n",
       "      <td>159.000000</td>\n",
       "      <td>159.000000</td>\n",
       "      <td>159.000000</td>\n",
       "    </tr>\n",
       "    <tr>\n",
       "      <th>mean</th>\n",
       "      <td>398.326415</td>\n",
       "      <td>26.246541</td>\n",
       "      <td>28.415723</td>\n",
       "      <td>31.229560</td>\n",
       "      <td>8.925576</td>\n",
       "      <td>3777.977521</td>\n",
       "    </tr>\n",
       "    <tr>\n",
       "      <th>std</th>\n",
       "      <td>357.978317</td>\n",
       "      <td>9.989816</td>\n",
       "      <td>10.716328</td>\n",
       "      <td>11.609869</td>\n",
       "      <td>4.260588</td>\n",
       "      <td>47582.744610</td>\n",
       "    </tr>\n",
       "    <tr>\n",
       "      <th>min</th>\n",
       "      <td>0.000000</td>\n",
       "      <td>7.500000</td>\n",
       "      <td>8.400000</td>\n",
       "      <td>8.800000</td>\n",
       "      <td>1.728400</td>\n",
       "      <td>1.047600</td>\n",
       "    </tr>\n",
       "    <tr>\n",
       "      <th>25%</th>\n",
       "      <td>120.000000</td>\n",
       "      <td>19.050000</td>\n",
       "      <td>21.000000</td>\n",
       "      <td>23.150000</td>\n",
       "      <td>5.944800</td>\n",
       "      <td>3.401600</td>\n",
       "    </tr>\n",
       "    <tr>\n",
       "      <th>50%</th>\n",
       "      <td>273.000000</td>\n",
       "      <td>25.200000</td>\n",
       "      <td>27.300000</td>\n",
       "      <td>29.700000</td>\n",
       "      <td>7.733000</td>\n",
       "      <td>4.248500</td>\n",
       "    </tr>\n",
       "    <tr>\n",
       "      <th>75%</th>\n",
       "      <td>650.000000</td>\n",
       "      <td>32.700000</td>\n",
       "      <td>35.500000</td>\n",
       "      <td>39.650000</td>\n",
       "      <td>12.143400</td>\n",
       "      <td>5.584500</td>\n",
       "    </tr>\n",
       "    <tr>\n",
       "      <th>max</th>\n",
       "      <td>1650.000000</td>\n",
       "      <td>59.000000</td>\n",
       "      <td>63.400000</td>\n",
       "      <td>68.000000</td>\n",
       "      <td>18.957000</td>\n",
       "      <td>600000.000000</td>\n",
       "    </tr>\n",
       "  </tbody>\n",
       "</table>\n",
       "</div>"
      ],
      "text/plain": [
       "              Cost  Weight_compact  Weight_expanded      Length      Height  \\\n",
       "count   159.000000      159.000000       159.000000  159.000000  159.000000   \n",
       "mean    398.326415       26.246541        28.415723   31.229560    8.925576   \n",
       "std     357.978317        9.989816        10.716328   11.609869    4.260588   \n",
       "min       0.000000        7.500000         8.400000    8.800000    1.728400   \n",
       "25%     120.000000       19.050000        21.000000   23.150000    5.944800   \n",
       "50%     273.000000       25.200000        27.300000   29.700000    7.733000   \n",
       "75%     650.000000       32.700000        35.500000   39.650000   12.143400   \n",
       "max    1650.000000       59.000000        63.400000   68.000000   18.957000   \n",
       "\n",
       "               Width  \n",
       "count     159.000000  \n",
       "mean     3777.977521  \n",
       "std     47582.744610  \n",
       "min         1.047600  \n",
       "25%         3.401600  \n",
       "50%         4.248500  \n",
       "75%         5.584500  \n",
       "max    600000.000000  "
      ]
     },
     "execution_count": 55,
     "metadata": {},
     "output_type": "execute_result"
    }
   ],
   "source": [
    "#checking if any value has changed drastically\n",
    "bags_df.describe()"
   ]
  },
  {
   "cell_type": "markdown",
   "metadata": {},
   "source": [
    "looks like I have not done too much damage. Let's move on to the complicated bits."
   ]
  },
  {
   "cell_type": "markdown",
   "metadata": {},
   "source": [
    "Checking for outliers"
   ]
  },
  {
   "cell_type": "code",
   "execution_count": 56,
   "metadata": {},
   "outputs": [
    {
     "data": {
      "text/plain": [
       "<AxesSubplot:>"
      ]
     },
     "execution_count": 56,
     "metadata": {},
     "output_type": "execute_result"
    },
    {
     "data": {
      "image/png": "[encoded data removed]",
      "text/plain": [
       "<Figure size 432x288 with 1 Axes>"
      ]
     },
     "metadata": {},
     "output_type": "display_data"
    }
   ],
   "source": [
    "bags_df.boxplot(column='Cost')"
   ]
  },
  {
   "cell_type": "markdown",
   "metadata": {},
   "source": [
    "we have some outliers in cost. Lets do the same for the rest of the columns."
   ]
  },
  {
   "cell_type": "code",
   "execution_count": 57,
   "metadata": {},
   "outputs": [
    {
     "data": {
      "text/plain": [
       "<AxesSubplot:>"
      ]
     },
     "execution_count": 57,
     "metadata": {},
     "output_type": "execute_result"
    },
    {
     "data": {
      "image/png": "[encoded data removed]",
      "text/plain": [
       "<Figure size 432x288 with 1 Axes>"
      ]
     },
     "metadata": {},
     "output_type": "display_data"
    }
   ],
   "source": [
    "bags_df.boxplot(column='Weight_compact')"
   ]
  },
  {
   "cell_type": "code",
   "execution_count": 58,
   "metadata": {},
   "outputs": [
    {
     "data": {
      "text/plain": [
       "<AxesSubplot:>"
      ]
     },
     "execution_count": 58,
     "metadata": {},
     "output_type": "execute_result"
    },
    {
     "data": {
      "image/png": "[encoded data removed]",
      "text/plain": [
       "<Figure size 432x288 with 1 Axes>"
      ]
     },
     "metadata": {},
     "output_type": "display_data"
    }
   ],
   "source": [
    "bags_df.boxplot(column='Weight_expanded')"
   ]
  },
  {
   "cell_type": "code",
   "execution_count": 59,
   "metadata": {},
   "outputs": [
    {
     "data": {
      "text/plain": [
       "<AxesSubplot:>"
      ]
     },
     "execution_count": 59,
     "metadata": {},
     "output_type": "execute_result"
    },
    {
     "data": {
      "image/png": "[encoded data removed]",
      "text/plain": [
       "<Figure size 432x288 with 1 Axes>"
      ]
     },
     "metadata": {},
     "output_type": "display_data"
    }
   ],
   "source": [
    "bags_df.boxplot(column=\"Length\")"
   ]
  },
  {
   "cell_type": "code",
   "execution_count": 60,
   "metadata": {},
   "outputs": [
    {
     "data": {
      "text/plain": [
       "<AxesSubplot:>"
      ]
     },
     "execution_count": 60,
     "metadata": {},
     "output_type": "execute_result"
    },
    {
     "data": {
      "image/png": "[encoded data removed]",
      "text/plain": [
       "<Figure size 432x288 with 1 Axes>"
      ]
     },
     "metadata": {},
     "output_type": "display_data"
    }
   ],
   "source": [
    "bags_df.boxplot(column='Height')"
   ]
  },
  {
   "cell_type": "markdown",
   "metadata": {},
   "source": [
    "This column seems to be ok. No outliers here."
   ]
  },
  {
   "cell_type": "code",
   "execution_count": 61,
   "metadata": {},
   "outputs": [
    {
     "data": {
      "text/plain": [
       "<AxesSubplot:>"
      ]
     },
     "execution_count": 61,
     "metadata": {},
     "output_type": "execute_result"
    },
    {
     "data": {
      "image/png": "[encoded data removed]",
      "text/plain": [
       "<Figure size 432x288 with 1 Axes>"
      ]
     },
     "metadata": {},
     "output_type": "display_data"
    }
   ],
   "source": [
    "bags_df.boxplot(column='Width')"
   ]
  },
  {
   "cell_type": "markdown",
   "metadata": {},
   "source": [
    "I will be removing outliers from all coulmns except 'Heght'. Here I will be using IQR score technique to remove the values beyong a defined threshold."
   ]
  },
  {
   "cell_type": "code",
   "execution_count": 62,
   "metadata": {},
   "outputs": [],
   "source": [
    "#creating a function to get the threshold values of minimum and maximum from IQR\n",
    "def remove_outlier(col):\n",
    "    sorted(col)\n",
    "    Q1,Q3 = col.quantile([0.25, 0.75])\n",
    "    IQR = Q3 - Q1\n",
    "    lower_range = Q1-(1.5 * IQR)\n",
    "    upper_range = Q3+(1.5 * IQR)\n",
    "    return lower_range, upper_range"
   ]
  },
  {
   "cell_type": "code",
   "execution_count": 63,
   "metadata": {},
   "outputs": [
    {
     "data": {
      "image/png": "[encoded data removed]",
      "text/plain": [
       "<Figure size 432x288 with 1 Axes>"
      ]
     },
     "metadata": {},
     "output_type": "display_data"
    }
   ],
   "source": [
    "#taking column cost\n",
    "lowercost, uppercost = remove_outlier(bags_df[\"Cost\"])\n",
    "bags_df[\"Cost\"] = np.where(bags_df[\"Cost\"]>uppercost,uppercost,bags_df[\"Cost\"])\n",
    "bags_df[\"Cost\"] = np.where(bags_df[\"Cost\"]<lowercost,lowercost,bags_df[\"Cost\"])\n",
    "\n",
    "bags_df.boxplot(column=[\"Cost\"]) #visualising the column to see if it fixed the problem\n",
    "plt.show()"
   ]
  },
  {
   "cell_type": "markdown",
   "metadata": {},
   "source": [
    "Looks like it has done the trick. Let's do the same for all pending columns."
   ]
  },
  {
   "cell_type": "code",
   "execution_count": 64,
   "metadata": {},
   "outputs": [
    {
     "data": {
      "image/png": "[encoded data removed]",
      "text/plain": [
       "<Figure size 432x288 with 1 Axes>"
      ]
     },
     "metadata": {},
     "output_type": "display_data"
    }
   ],
   "source": [
    "#taking column Weight_compact\n",
    "lowerweightcomp, upperweightcomp = remove_outlier(bags_df[\"Weight_compact\"])\n",
    "bags_df[\"Weight_compact\"] = np.where(bags_df[\"Weight_compact\"]>upperweightcomp,upperweightcomp,bags_df[\"Weight_compact\"])\n",
    "bags_df[\"Weight_compact\"] = np.where(bags_df[\"Cost\"]<lowerweightcomp,lowerweightcomp,bags_df[\"Weight_compact\"])\n",
    "\n",
    "bags_df.boxplot(column=[\"Weight_compact\"]) #visualising the column to see if it fixed the problem\n",
    "plt.show()"
   ]
  },
  {
   "cell_type": "code",
   "execution_count": 65,
   "metadata": {},
   "outputs": [
    {
     "data": {
      "image/png": "[encoded data removed]",
      "text/plain": [
       "<Figure size 432x288 with 1 Axes>"
      ]
     },
     "metadata": {},
     "output_type": "display_data"
    }
   ],
   "source": [
    "#taking column Weight_expanded\n",
    "lowerweightexp, upperweightexp = remove_outlier(bags_df[\"Weight_expanded\"])\n",
    "bags_df[\"Weight_expanded\"] = np.where(bags_df[\"Weight_expanded\"]>upperweightexp,upperweightexp,bags_df[\"Weight_expanded\"])\n",
    "bags_df[\"Weight_expanded\"] = np.where(bags_df[\"Weight_expanded\"]<lowerweightexp,lowerweightexp,bags_df[\"Weight_expanded\"])\n",
    "\n",
    "bags_df.boxplot(column=[\"Weight_expanded\"])#visualising the column to see if it fixed the problem\n",
    "plt.show()"
   ]
  },
  {
   "cell_type": "code",
   "execution_count": 66,
   "metadata": {},
   "outputs": [
    {
     "data": {
      "image/png": "[encoded data removed]",
      "text/plain": [
       "<Figure size 432x288 with 1 Axes>"
      ]
     },
     "metadata": {},
     "output_type": "display_data"
    }
   ],
   "source": [
    "#taking column Length\n",
    "lowerlength, upperlength = remove_outlier(bags_df[\"Length\"])\n",
    "bags_df[\"Length\"] = np.where(bags_df[\"Length\"]>upperlength,upperlength,bags_df[\"Length\"])\n",
    "bags_df[\"Length\"] = np.where(bags_df[\"Length\"]<lowerlength,lowerlength,bags_df[\"Length\"])\n",
    "\n",
    "bags_df.boxplot(column=[\"Length\"])#visualising the column to see if it fixed the problem\n",
    "plt.show()"
   ]
  },
  {
   "cell_type": "code",
   "execution_count": 67,
   "metadata": {},
   "outputs": [
    {
     "data": {
      "image/png": "[encoded data removed]",
      "text/plain": [
       "<Figure size 432x288 with 1 Axes>"
      ]
     },
     "metadata": {},
     "output_type": "display_data"
    }
   ],
   "source": [
    "#taking column Width\n",
    "lowerwidth, upperwidth = remove_outlier(bags_df[\"Width\"])\n",
    "bags_df[\"Width\"] = np.where(bags_df[\"Width\"]>upperwidth,upperwidth,bags_df[\"Width\"])\n",
    "bags_df[\"Width\"] = np.where(bags_df[\"Width\"]<lowerwidth,lowerwidth,bags_df[\"Width\"])\n",
    "\n",
    "bags_df.boxplot(column=[\"Width\"])#visualising the column to see if it fixed the problem\n",
    "plt.show()"
   ]
  },
  {
   "cell_type": "markdown",
   "metadata": {},
   "source": [
    "Feature scaling"
   ]
  },
  {
   "cell_type": "code",
   "execution_count": 68,
   "metadata": {},
   "outputs": [
    {
     "data": {
      "text/html": [
       "<div>\n",
       "<style scoped>\n",
       "    .dataframe tbody tr th:only-of-type {\n",
       "        vertical-align: middle;\n",
       "    }\n",
       "\n",
       "    .dataframe tbody tr th {\n",
       "        vertical-align: top;\n",
       "    }\n",
       "\n",
       "    .dataframe thead th {\n",
       "        text-align: right;\n",
       "    }\n",
       "</style>\n",
       "<table border=\"1\" class=\"dataframe\">\n",
       "  <thead>\n",
       "    <tr style=\"text-align: right;\">\n",
       "      <th></th>\n",
       "      <th>Cost</th>\n",
       "      <th>Weight_compact</th>\n",
       "      <th>Weight_expanded</th>\n",
       "      <th>Length</th>\n",
       "      <th>Height</th>\n",
       "      <th>Width</th>\n",
       "    </tr>\n",
       "  </thead>\n",
       "  <tbody>\n",
       "    <tr>\n",
       "      <th>count</th>\n",
       "      <td>159.000000</td>\n",
       "      <td>159.000000</td>\n",
       "      <td>159.000000</td>\n",
       "      <td>159.000000</td>\n",
       "      <td>159.000000</td>\n",
       "      <td>159.000000</td>\n",
       "    </tr>\n",
       "    <tr>\n",
       "      <th>mean</th>\n",
       "      <td>395.401887</td>\n",
       "      <td>26.174371</td>\n",
       "      <td>28.342453</td>\n",
       "      <td>31.206918</td>\n",
       "      <td>8.925576</td>\n",
       "      <td>4.448331</td>\n",
       "    </tr>\n",
       "    <tr>\n",
       "      <th>std</th>\n",
       "      <td>348.555952</td>\n",
       "      <td>9.775683</td>\n",
       "      <td>10.499859</td>\n",
       "      <td>11.541012</td>\n",
       "      <td>4.260588</td>\n",
       "      <td>1.699199</td>\n",
       "    </tr>\n",
       "    <tr>\n",
       "      <th>min</th>\n",
       "      <td>0.000000</td>\n",
       "      <td>7.500000</td>\n",
       "      <td>8.400000</td>\n",
       "      <td>8.800000</td>\n",
       "      <td>1.728400</td>\n",
       "      <td>1.047600</td>\n",
       "    </tr>\n",
       "    <tr>\n",
       "      <th>25%</th>\n",
       "      <td>120.000000</td>\n",
       "      <td>19.050000</td>\n",
       "      <td>21.000000</td>\n",
       "      <td>23.150000</td>\n",
       "      <td>5.944800</td>\n",
       "      <td>3.401600</td>\n",
       "    </tr>\n",
       "    <tr>\n",
       "      <th>50%</th>\n",
       "      <td>273.000000</td>\n",
       "      <td>25.200000</td>\n",
       "      <td>27.300000</td>\n",
       "      <td>29.700000</td>\n",
       "      <td>7.733000</td>\n",
       "      <td>4.248500</td>\n",
       "    </tr>\n",
       "    <tr>\n",
       "      <th>75%</th>\n",
       "      <td>650.000000</td>\n",
       "      <td>32.700000</td>\n",
       "      <td>35.500000</td>\n",
       "      <td>39.650000</td>\n",
       "      <td>12.143400</td>\n",
       "      <td>5.584500</td>\n",
       "    </tr>\n",
       "    <tr>\n",
       "      <th>max</th>\n",
       "      <td>1445.000000</td>\n",
       "      <td>53.175000</td>\n",
       "      <td>57.250000</td>\n",
       "      <td>64.400000</td>\n",
       "      <td>18.957000</td>\n",
       "      <td>8.858850</td>\n",
       "    </tr>\n",
       "  </tbody>\n",
       "</table>\n",
       "</div>"
      ],
      "text/plain": [
       "              Cost  Weight_compact  Weight_expanded      Length      Height  \\\n",
       "count   159.000000      159.000000       159.000000  159.000000  159.000000   \n",
       "mean    395.401887       26.174371        28.342453   31.206918    8.925576   \n",
       "std     348.555952        9.775683        10.499859   11.541012    4.260588   \n",
       "min       0.000000        7.500000         8.400000    8.800000    1.728400   \n",
       "25%     120.000000       19.050000        21.000000   23.150000    5.944800   \n",
       "50%     273.000000       25.200000        27.300000   29.700000    7.733000   \n",
       "75%     650.000000       32.700000        35.500000   39.650000   12.143400   \n",
       "max    1445.000000       53.175000        57.250000   64.400000   18.957000   \n",
       "\n",
       "            Width  \n",
       "count  159.000000  \n",
       "mean     4.448331  \n",
       "std      1.699199  \n",
       "min      1.047600  \n",
       "25%      3.401600  \n",
       "50%      4.248500  \n",
       "75%      5.584500  \n",
       "max      8.858850  "
      ]
     },
     "execution_count": 68,
     "metadata": {},
     "output_type": "execute_result"
    }
   ],
   "source": [
    "#checking the status of the dataset again\n",
    "bags_df.describe()"
   ]
  },
  {
   "cell_type": "code",
   "execution_count": 69,
   "metadata": {},
   "outputs": [
    {
     "data": {
      "text/plain": [
       "StandardScaler()"
      ]
     },
     "execution_count": 69,
     "metadata": {},
     "output_type": "execute_result"
    }
   ],
   "source": [
    "#scaling data using sklearn. convert variables with different scales of measurements into a single scale. StandardScaler normalizes the data using the formula (x-mean)/standard deviation.\n",
    "from sklearn.preprocessing import StandardScaler\n",
    "std_scale = StandardScaler()\n",
    "std_scale\n"
   ]
  },
  {
   "cell_type": "code",
   "execution_count": 70,
   "metadata": {},
   "outputs": [
    {
     "data": {
      "text/plain": [
       "StandardScaler()"
      ]
     },
     "execution_count": 70,
     "metadata": {},
     "output_type": "execute_result"
    }
   ],
   "source": [
    "StandardScaler(copy=True, with_mean=True, with_std=True)"
   ]
  },
  {
   "cell_type": "code",
   "execution_count": 71,
   "metadata": {},
   "outputs": [
    {
     "data": {
      "text/html": [
       "<div>\n",
       "<style scoped>\n",
       "    .dataframe tbody tr th:only-of-type {\n",
       "        vertical-align: middle;\n",
       "    }\n",
       "\n",
       "    .dataframe tbody tr th {\n",
       "        vertical-align: top;\n",
       "    }\n",
       "\n",
       "    .dataframe thead th {\n",
       "        text-align: right;\n",
       "    }\n",
       "</style>\n",
       "<table border=\"1\" class=\"dataframe\">\n",
       "  <thead>\n",
       "    <tr style=\"text-align: right;\">\n",
       "      <th></th>\n",
       "      <th>Cost</th>\n",
       "      <th>Weight_compact</th>\n",
       "      <th>Weight_expanded</th>\n",
       "      <th>Length</th>\n",
       "      <th>Height</th>\n",
       "      <th>Width</th>\n",
       "    </tr>\n",
       "  </thead>\n",
       "  <tbody>\n",
       "    <tr>\n",
       "      <th>0</th>\n",
       "      <td>-0.441497</td>\n",
       "      <td>-0.305224</td>\n",
       "      <td>-0.281123</td>\n",
       "      <td>-0.104907</td>\n",
       "      <td>0.610860</td>\n",
       "      <td>-0.252875</td>\n",
       "    </tr>\n",
       "    <tr>\n",
       "      <th>1</th>\n",
       "      <td>-0.303351</td>\n",
       "      <td>-0.223129</td>\n",
       "      <td>-0.195137</td>\n",
       "      <td>-0.000601</td>\n",
       "      <td>0.836893</td>\n",
       "      <td>-0.084264</td>\n",
       "    </tr>\n",
       "    <tr>\n",
       "      <th>2</th>\n",
       "      <td>-0.159449</td>\n",
       "      <td>-0.233391</td>\n",
       "      <td>-0.176028</td>\n",
       "      <td>-0.009293</td>\n",
       "      <td>0.812829</td>\n",
       "      <td>0.146276</td>\n",
       "    </tr>\n",
       "    <tr>\n",
       "      <th>3</th>\n",
       "      <td>-0.093254</td>\n",
       "      <td>0.012892</td>\n",
       "      <td>0.062822</td>\n",
       "      <td>0.199318</td>\n",
       "      <td>0.895755</td>\n",
       "      <td>0.004232</td>\n",
       "    </tr>\n",
       "    <tr>\n",
       "      <th>4</th>\n",
       "      <td>0.099575</td>\n",
       "      <td>0.033415</td>\n",
       "      <td>0.062822</td>\n",
       "      <td>0.242778</td>\n",
       "      <td>0.828416</td>\n",
       "      <td>0.404800</td>\n",
       "    </tr>\n",
       "  </tbody>\n",
       "</table>\n",
       "</div>"
      ],
      "text/plain": [
       "       Cost  Weight_compact  Weight_expanded    Length    Height     Width\n",
       "0 -0.441497       -0.305224        -0.281123 -0.104907  0.610860 -0.252875\n",
       "1 -0.303351       -0.223129        -0.195137 -0.000601  0.836893 -0.084264\n",
       "2 -0.159449       -0.233391        -0.176028 -0.009293  0.812829  0.146276\n",
       "3 -0.093254        0.012892         0.062822  0.199318  0.895755  0.004232\n",
       "4  0.099575        0.033415         0.062822  0.242778  0.828416  0.404800"
      ]
     },
     "execution_count": 71,
     "metadata": {},
     "output_type": "execute_result"
    }
   ],
   "source": [
    "bags_df[\"Cost\"] = std_scale.fit_transform(bags_df[[\"Cost\"]])\n",
    "bags_df[\"Weight_compact\"] = std_scale.fit_transform(bags_df[[\"Weight_compact\"]])\n",
    "bags_df[\"Weight_expanded\"] = std_scale.fit_transform(bags_df[[\"Weight_expanded\"]])\n",
    "bags_df[\"Length\"] = std_scale.fit_transform(bags_df[[\"Length\"]])\n",
    "bags_df[\"Height\"] = std_scale.fit_transform(bags_df[[\"Height\"]])\n",
    "bags_df[\"Width\"] = std_scale.fit_transform(bags_df[[\"Width\"]])\n",
    "bags_df.head()"
   ]
  },
  {
   "cell_type": "code",
   "execution_count": 72,
   "metadata": {},
   "outputs": [
    {
     "data": {
      "text/plain": [
       "<AxesSubplot:>"
      ]
     },
     "execution_count": 72,
     "metadata": {},
     "output_type": "execute_result"
    },
    {
     "data": {
      "image/png": "[encoded data removed]",
      "text/plain": [
       "<Figure size 432x288 with 2 Axes>"
      ]
     },
     "metadata": {},
     "output_type": "display_data"
    }
   ],
   "source": [
    "# heat map to understand correlations\n",
    "sns.heatmap(bags_df.corr(),annot=True)"
   ]
  },
  {
   "cell_type": "markdown",
   "metadata": {},
   "source": [
    "Starting with "
   ]
  },
  {
   "cell_type": "code",
   "execution_count": null,
   "metadata": {},
   "outputs": [],
   "source": []
  }
 ],
 "metadata": {
  "kernelspec": {
   "display_name": "Python 3",
   "language": "python",
   "name": "python3"
  },
  "language_info": {
   "codemirror_mode": {
    "name": "ipython",
    "version": 3
   },
   "file_extension": ".py",
   "mimetype": "text/x-python",
   "name": "python",
   "nbconvert_exporter": "python",
   "pygments_lexer": "ipython3",
   "version": "3.8.5"
  }
 },
 "nbformat": 4,
 "nbformat_minor": 4
}
